{
 "cells": [
  {
   "cell_type": "markdown",
   "metadata": {},
   "source": [
    "## Naive-Bayes Classifier\n",
    "### Why Naive??\n",
    "#### Because it thinks all features ar emutually independent of each other.(so, the multiplication)"
   ]
  },
  {
   "cell_type": "markdown",
   "metadata": {},
   "source": [
    "## 3 types of Naive-Bayes Classifier\n",
    "### 1. Gaussian Naive Bayes Classifier\n",
    "### 2. Multinomial Naive Bayes Classifer\n",
    "### 3. Bernoulli Naive Bayes Classifier"
   ]
  },
  {
   "cell_type": "code",
   "execution_count": 60,
   "metadata": {},
   "outputs": [],
   "source": [
    "import numpy as np \n",
    "import pandas as pd\n",
    "import matplotlib.pyplot as plt\n",
    "from scipy.stats import norm\n",
    "from scipy.stats import multivariate_normal as mvn"
   ]
  },
  {
   "cell_type": "markdown",
   "metadata": {},
   "source": [
    "## 1. Gausssian Naive Bayes Classifier"
   ]
  },
  {
   "cell_type": "code",
   "execution_count": 61,
   "metadata": {},
   "outputs": [],
   "source": [
    "# Before starting its better to have concept of oops\n",
    "# I will be commenting as much as I can for oops concept\n",
    "# Start by creating class\n",
    "# Refer to Bayes' Theorem, conditional probablity with Gaussian distribution (probablity density function)\n",
    "class GaussianNaiveBayes:\n",
    "    \n",
    "    # fit methods trains the data\n",
    "    def fit(self,X,y,spar=10e-3): # here self is the variable which refers to current object of class \n",
    "        number_of_sample,number_of_features = X.shape # returns shape of X which is NxD dimensional\n",
    "        # categories contains classes in Y uniquely due to Set\n",
    "        self.categories=np.unique(y)\n",
    "        \n",
    "        # number_of_classes is the local variable\n",
    "        number_of_classes=len(self.categories)\n",
    "        \n",
    "        # Initialising mean, var and priors\n",
    "        self.gaussian_mean=np.zeros((number_of_classes,number_of_features),dtype=np.float64)\n",
    "        self.gaussian_var=np.zeros((number_of_classes,number_of_features),dtype=np.float64)\n",
    "        self.log_prior=np.zeros((number_of_classes),dtype=np.float64)\n",
    "        \n",
    "        # Calculating mean,var,prior based on categories in Y\n",
    "        for classes in self.categories:\n",
    "            X_classes=X[classes==y] # grouping into X_classes array according to category in y\n",
    "            self.gaussian_mean[classes,:]=X_classes.mean(axis=0) # mean with each row of sample belonging particular column(features)\n",
    "            self.gaussian_var[classes,:]=X_classes.var(axis=0)+spar\n",
    "            self.log_prior[classes]=np.log(X_classes.shape[0]/float(number_of_sample)) #number of sample in a class/ total samples\n",
    "            # i have logged prior because in posterior we will be calculation log_pdf in predict\n",
    "            \n",
    "        \n",
    "        \n",
    "        \n",
    "    \n",
    "    \n",
    "    # predict method make prediction\n",
    "    def predict(self,X):\n",
    "        # posterior probablity dimension (number of sample,number of categories)\n",
    "        posteriorS=np.zeros((X.shape[0],len(self.categories)))\n",
    "        for classes in self.categories: # calculating posterior with log of class_conditional probablity + log prior \n",
    "            posteriorS[:,classes]=mvn.logpdf(X,\n",
    "                                             mean=self.gaussian_mean[classes,:],\n",
    "                                             cov=self.gaussian_var[classes,:]) + self.log_prior[classes]\n",
    "        return np.argmax(posteriorS,axis=1)\n",
    "        \n",
    "    def accuracy(self,y_true,predicted):\n",
    "        return np.mean(y_true==predicted)\n",
    "        \n",
    "            \n",
    "        "
   ]
  },
  {
   "cell_type": "code",
   "execution_count": 62,
   "metadata": {},
   "outputs": [],
   "source": [
    "from sklearn import datasets\n",
    "X,y=datasets.make_classification(n_samples=1000,n_features=10,n_classes=2,random_state=66)"
   ]
  },
  {
   "cell_type": "code",
   "execution_count": 63,
   "metadata": {},
   "outputs": [],
   "source": [
    "# Splitting data into train and test set\n",
    "# can use sklearn's train-test split but i want to keep it simple\n",
    "X_train=X[:900,:]\n",
    "X_test=X[900:,]\n",
    "y_train=y[:900]\n",
    "y_test=y[900:]"
   ]
  },
  {
   "cell_type": "code",
   "execution_count": 64,
   "metadata": {},
   "outputs": [],
   "source": [
    "# Training data\n",
    "nb=GaussianNaiveBayes()\n",
    "nb.fit(X_train,y_train)"
   ]
  },
  {
   "cell_type": "code",
   "execution_count": 66,
   "metadata": {},
   "outputs": [],
   "source": [
    "# predicting on test-set\n",
    "pr=nb.predict(X_test)"
   ]
  },
  {
   "cell_type": "code",
   "execution_count": 67,
   "metadata": {},
   "outputs": [
    {
     "data": {
      "text/plain": [
       "0.93"
      ]
     },
     "execution_count": 67,
     "metadata": {},
     "output_type": "execute_result"
    }
   ],
   "source": [
    "# Checking Accuracy\n",
    "nb.accuracy(y_test,pr)"
   ]
  },
  {
   "cell_type": "markdown",
   "metadata": {},
   "source": [
    "#### To be Continued with other bayesian classifier"
   ]
  }
 ],
 "metadata": {
  "kernelspec": {
   "display_name": "Python 3",
   "language": "python",
   "name": "python3"
  },
  "language_info": {
   "codemirror_mode": {
    "name": "ipython",
    "version": 3
   },
   "file_extension": ".py",
   "mimetype": "text/x-python",
   "name": "python",
   "nbconvert_exporter": "python",
   "pygments_lexer": "ipython3",
   "version": "3.7.4"
  }
 },
 "nbformat": 4,
 "nbformat_minor": 2
}
