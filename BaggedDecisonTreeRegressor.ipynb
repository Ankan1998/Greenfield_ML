{
 "cells": [
  {
   "cell_type": "markdown",
   "metadata": {},
   "source": [
    "# Vanilla Bagging of Decision Tree Regressor"
   ]
  },
  {
   "cell_type": "code",
   "execution_count": 1,
   "metadata": {},
   "outputs": [],
   "source": [
    "import numpy as np\n",
    "import pandas as pd\n",
    "import matplotlib.pyplot as plt\n",
    "%matplotlib inline\n",
    "from sklearn.tree import DecisionTreeRegressor\n",
    "# importing from sklearn because its more optimised than custom made"
   ]
  },
  {
   "cell_type": "code",
   "execution_count": 2,
   "metadata": {},
   "outputs": [],
   "source": [
    "class BaggedDecisonTreeRegressor:\n",
    "    \n",
    "    def __init__(self,num_of_bagged):\n",
    "        self.num_of_bagged=num_of_bagged\n",
    "        \n",
    "    def fit(self,X,y):\n",
    "        self.models=[]\n",
    "        for i in range(len(self.num_of_bagged)):\n",
    "            indexs=np.random.choice(len(X),size=len(X))# sample with replacement\n",
    "            Xi=X[indexs]\n",
    "            Yi=y[indexs]\n",
    "            model=DecisionTreeRegressor()\n",
    "            model.fit(Xi,Yi)\n",
    "            self.models.append(model)\n",
    "            \n",
    "    def predict(self,X):\n",
    "        for model in self.models:\n",
    "            pred=pred+model.predict(X)\n",
    "        return pred/self.B\n",
    "    \n",
    "    def acc(self,Xtest,ytest):\n",
    "        ss1= ytest-self.predict(Xtest)\n",
    "        ss2= ytest-ytest.mean()\n",
    "        return 1-(np.dot(ss1,ss1)/np.dot(ss2,ss2))\n",
    "            "
   ]
  },
  {
   "cell_type": "code",
   "execution_count": null,
   "metadata": {},
   "outputs": [],
   "source": []
  }
 ],
 "metadata": {
  "kernelspec": {
   "display_name": "Python 3",
   "language": "python",
   "name": "python3"
  },
  "language_info": {
   "codemirror_mode": {
    "name": "ipython",
    "version": 3
   },
   "file_extension": ".py",
   "mimetype": "text/x-python",
   "name": "python",
   "nbconvert_exporter": "python",
   "pygments_lexer": "ipython3",
   "version": "3.7.4"
  }
 },
 "nbformat": 4,
 "nbformat_minor": 2
}
