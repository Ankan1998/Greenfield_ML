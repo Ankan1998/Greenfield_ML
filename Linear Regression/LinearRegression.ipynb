{
 "cells": [
  {
   "cell_type": "markdown",
   "metadata": {},
   "source": [
    "# Linear Regression"
   ]
  },
  {
   "cell_type": "code",
   "execution_count": 1,
   "metadata": {},
   "outputs": [],
   "source": [
    "import numpy as np\n",
    "import pandas as pd\n",
    "import matplotlib.pyplot as plt\n",
    "%matplotlib inline"
   ]
  },
  {
   "cell_type": "code",
   "execution_count": 2,
   "metadata": {},
   "outputs": [],
   "source": [
    "class Linear_Regression:\n",
    "    \n",
    "    \n",
    "    def __init__(self,learning_rate=0.01,epochs=1000):\n",
    "        # Learning rate(alpha) is a hyper-parameter to determine the value of update of weights and bias on gradient descent\n",
    "        # Too small Learning rate could make convergence too slow\n",
    "        # Too big learning rate cause the descent to jumps the minima\n",
    "        self.learning_rate=learning_rate\n",
    "        # Epochs is the number to time the descent will take place\n",
    "        self.epochs=epochs\n",
    "        # Initialising weights and bias to None\n",
    "        # Weights and bias is tweaked by gradient to find the line of best fit.\n",
    "        # Weight is defined as how much of what features combined to give the Dependent Variable\n",
    "        self.weights=None\n",
    "        self.bias=None\n",
    "        \n",
    "    def predicted_val(self,Xi,W,b):\n",
    "        # Xi=(num_of_samples,num_of_features);W=(num_of_features,1);b=(num_of_samples,1)\n",
    "        # Dimension of ypred --> (num_of_samples,1)\n",
    "        ypred=np.dot(Xi,W) + b\n",
    "        return ypred\n",
    "        \n",
    "    def fit(self,X,y):\n",
    "        num_of_samples,num_of_features=X.shape\n",
    "        # weight vector is of dimension (num_of_features,1)\n",
    "        self.weights= np.random.randn(num_of_features,1)\n",
    "        # Bias is (1,1)\n",
    "        self.bias=np.random.randn(1,1)\n",
    "        # Looping over number of epochs\n",
    "        for i in range(self.epochs):\n",
    "            # dW is the derivative of the cost function \n",
    "            # Cost function is the mean-squared error between predicted value of y and real y\n",
    "            dW=(X.T@(self.predicted_val(X,self.weights,self.bias)-y))/(len(y))\n",
    "            db=np.sum((self.predicted_val(X,self.weights,self.bias))-y)/(len(y))\n",
    "            \n",
    "            # Updating weights and bias\n",
    "            self.weights=self.weights-self.learning_rate*dW\n",
    "            self.bias=self.bias-self.learning_rate*db\n",
    "            \n",
    "    def predict(self,X):\n",
    "        y_predicted=np.dot(X,self.weights) +self.bias\n",
    "        return y_predicted\n",
    "    \n",
    "    # Checking accuracy by r_squared\n",
    "    def r2(self,y_pred_val,y):\n",
    "        sst = np.sum((y-y.mean())**2)\n",
    "        ssr = np.sum((y_pred_val-y)**2)\n",
    "        r2 = 1-(ssr/sst)\n",
    "        return r2           \n",
    "            "
   ]
  },
  {
   "cell_type": "code",
   "execution_count": 3,
   "metadata": {},
   "outputs": [],
   "source": [
    "# Reading csv file\n",
    "ds=pd.read_excel('pp.xlsx')"
   ]
  },
  {
   "cell_type": "code",
   "execution_count": 4,
   "metadata": {},
   "outputs": [
    {
     "data": {
      "text/html": [
       "<div>\n",
       "<style scoped>\n",
       "    .dataframe tbody tr th:only-of-type {\n",
       "        vertical-align: middle;\n",
       "    }\n",
       "\n",
       "    .dataframe tbody tr th {\n",
       "        vertical-align: top;\n",
       "    }\n",
       "\n",
       "    .dataframe thead th {\n",
       "        text-align: right;\n",
       "    }\n",
       "</style>\n",
       "<table border=\"1\" class=\"dataframe\">\n",
       "  <thead>\n",
       "    <tr style=\"text-align: right;\">\n",
       "      <th></th>\n",
       "      <th>AT</th>\n",
       "      <th>V</th>\n",
       "      <th>AP</th>\n",
       "      <th>RH</th>\n",
       "      <th>PE</th>\n",
       "    </tr>\n",
       "  </thead>\n",
       "  <tbody>\n",
       "    <tr>\n",
       "      <td>0</td>\n",
       "      <td>14.96</td>\n",
       "      <td>41.76</td>\n",
       "      <td>1024.07</td>\n",
       "      <td>73.17</td>\n",
       "      <td>463.26</td>\n",
       "    </tr>\n",
       "    <tr>\n",
       "      <td>1</td>\n",
       "      <td>25.18</td>\n",
       "      <td>62.96</td>\n",
       "      <td>1020.04</td>\n",
       "      <td>59.08</td>\n",
       "      <td>444.37</td>\n",
       "    </tr>\n",
       "    <tr>\n",
       "      <td>2</td>\n",
       "      <td>5.11</td>\n",
       "      <td>39.40</td>\n",
       "      <td>1012.16</td>\n",
       "      <td>92.14</td>\n",
       "      <td>488.56</td>\n",
       "    </tr>\n",
       "    <tr>\n",
       "      <td>3</td>\n",
       "      <td>20.86</td>\n",
       "      <td>57.32</td>\n",
       "      <td>1010.24</td>\n",
       "      <td>76.64</td>\n",
       "      <td>446.48</td>\n",
       "    </tr>\n",
       "    <tr>\n",
       "      <td>4</td>\n",
       "      <td>10.82</td>\n",
       "      <td>37.50</td>\n",
       "      <td>1009.23</td>\n",
       "      <td>96.62</td>\n",
       "      <td>473.90</td>\n",
       "    </tr>\n",
       "  </tbody>\n",
       "</table>\n",
       "</div>"
      ],
      "text/plain": [
       "      AT      V       AP     RH      PE\n",
       "0  14.96  41.76  1024.07  73.17  463.26\n",
       "1  25.18  62.96  1020.04  59.08  444.37\n",
       "2   5.11  39.40  1012.16  92.14  488.56\n",
       "3  20.86  57.32  1010.24  76.64  446.48\n",
       "4  10.82  37.50  1009.23  96.62  473.90"
      ]
     },
     "execution_count": 4,
     "metadata": {},
     "output_type": "execute_result"
    }
   ],
   "source": [
    "# Seeing content of first 5 rows\n",
    "ds.head()"
   ]
  },
  {
   "cell_type": "code",
   "execution_count": 5,
   "metadata": {},
   "outputs": [
    {
     "data": {
      "text/plain": [
       "AT    0\n",
       "V     0\n",
       "AP    0\n",
       "RH    0\n",
       "PE    0\n",
       "dtype: int64"
      ]
     },
     "execution_count": 5,
     "metadata": {},
     "output_type": "execute_result"
    }
   ],
   "source": [
    "# Checking for null\n",
    "ds.isnull().sum()"
   ]
  },
  {
   "cell_type": "code",
   "execution_count": 6,
   "metadata": {},
   "outputs": [],
   "source": [
    "# Shuffle the rows\n",
    "ds=ds.sample(frac=1)"
   ]
  },
  {
   "cell_type": "code",
   "execution_count": 7,
   "metadata": {},
   "outputs": [],
   "source": [
    "# List column name for further reference\n",
    "list_of_columns=list(ds)"
   ]
  },
  {
   "cell_type": "code",
   "execution_count": 8,
   "metadata": {},
   "outputs": [
    {
     "data": {
      "text/plain": [
       "(9568, 5)"
      ]
     },
     "execution_count": 8,
     "metadata": {},
     "output_type": "execute_result"
    }
   ],
   "source": [
    "ds.shape"
   ]
  },
  {
   "cell_type": "code",
   "execution_count": 9,
   "metadata": {},
   "outputs": [],
   "source": [
    "# Splitting into train and validation set and target variable and independent variable\n",
    "ds_train_X=ds.iloc[:9000,:-1].values\n",
    "ds_train_y=ds.iloc[:9000,4].values\n",
    "ds_val_X=ds.iloc[9000:,:-1].values\n",
    "ds_val_y=ds.iloc[9000:,4].values"
   ]
  },
  {
   "cell_type": "code",
   "execution_count": 10,
   "metadata": {},
   "outputs": [],
   "source": [
    "# Scaling\n",
    "# It could be done manually, I used sci-kit learn library\n",
    "from sklearn.preprocessing import StandardScaler\n",
    "sc = StandardScaler()\n",
    "ds_train_X = sc.fit_transform(ds_train_X)\n",
    "ds_val_X=sc.fit_transform(ds_val_X)"
   ]
  },
  {
   "cell_type": "code",
   "execution_count": 11,
   "metadata": {},
   "outputs": [],
   "source": [
    "# To rank matrix to proper matrix\n",
    "ds_train_y=ds_train_y.reshape(9000,1)\n",
    "ds_val_y=ds_val_y.reshape(568,1)"
   ]
  },
  {
   "cell_type": "code",
   "execution_count": 12,
   "metadata": {},
   "outputs": [],
   "source": [
    "linreg=Linear_Regression()"
   ]
  },
  {
   "cell_type": "code",
   "execution_count": 13,
   "metadata": {},
   "outputs": [],
   "source": [
    "linreg.fit(ds_train_X,ds_train_y)"
   ]
  },
  {
   "cell_type": "code",
   "execution_count": 14,
   "metadata": {},
   "outputs": [],
   "source": [
    "pred=linreg.predict(ds_val_X)"
   ]
  },
  {
   "cell_type": "code",
   "execution_count": 15,
   "metadata": {},
   "outputs": [
    {
     "data": {
      "text/plain": [
       "0.9252275854226435"
      ]
     },
     "execution_count": 15,
     "metadata": {},
     "output_type": "execute_result"
    }
   ],
   "source": [
    "linreg.r2(pred,ds_val_y)"
   ]
  }
 ],
 "metadata": {
  "kernelspec": {
   "display_name": "Python 3",
   "language": "python",
   "name": "python3"
  },
  "language_info": {
   "codemirror_mode": {
    "name": "ipython",
    "version": 3
   },
   "file_extension": ".py",
   "mimetype": "text/x-python",
   "name": "python",
   "nbconvert_exporter": "python",
   "pygments_lexer": "ipython3",
   "version": "3.7.4"
  }
 },
 "nbformat": 4,
 "nbformat_minor": 2
}
