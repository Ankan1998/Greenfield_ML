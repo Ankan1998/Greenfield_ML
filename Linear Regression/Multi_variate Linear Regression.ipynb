{
 "cells": [
  {
   "cell_type": "code",
   "execution_count": 1,
   "metadata": {
    "colab": {},
    "colab_type": "code",
    "executionInfo": {
     "elapsed": 1347,
     "status": "ok",
     "timestamp": 1595661340677,
     "user": {
      "displayName": "Ankan Sharma",
      "photoUrl": "https://lh3.googleusercontent.com/a-/AOh14Gis4ULgaZnkIYVki7auGjHYEMLMfTJPzWFzaKwzyQ=s64",
      "userId": "07411072094908676866"
     },
     "user_tz": -330
    },
    "id": "vgaMRNSyzSVW"
   },
   "outputs": [],
   "source": [
    "import numpy as np\n",
    "import pandas as pd\n",
    "import os \n",
    "import zipfile\n"
   ]
  },
  {
   "cell_type": "markdown",
   "metadata": {
    "colab_type": "text",
    "id": "wMNPLfCo2OZI"
   },
   "source": [
    "# **The target variable is weight of fish**"
   ]
  },
  {
   "cell_type": "markdown",
   "metadata": {
    "colab_type": "text",
    "id": "g1Wdv_d-1yy8"
   },
   "source": [
    "## Data Preprocessing "
   ]
  },
  {
   "cell_type": "code",
   "execution_count": 91,
   "metadata": {
    "colab": {},
    "colab_type": "code",
    "executionInfo": {
     "elapsed": 1322,
     "status": "ok",
     "timestamp": 1595663116335,
     "user": {
      "displayName": "Ankan Sharma",
      "photoUrl": "https://lh3.googleusercontent.com/a-/AOh14Gis4ULgaZnkIYVki7auGjHYEMLMfTJPzWFzaKwzyQ=s64",
      "userId": "07411072094908676866"
     },
     "user_tz": -330
    },
    "id": "AcyqTadN12N1"
   },
   "outputs": [],
   "source": [
    "# Reading csv file\n",
    "ds_fish=pd.read_excel('pp.xlsx')"
   ]
  },
  {
   "cell_type": "code",
   "execution_count": 94,
   "metadata": {},
   "outputs": [
    {
     "data": {
      "text/plain": [
       "(9568, 5)"
      ]
     },
     "execution_count": 94,
     "metadata": {},
     "output_type": "execute_result"
    }
   ],
   "source": [
    "ds_fish.shape"
   ]
  },
  {
   "cell_type": "code",
   "execution_count": 92,
   "metadata": {
    "colab": {
     "base_uri": "https://localhost:8080/",
     "height": 195
    },
    "colab_type": "code",
    "executionInfo": {
     "elapsed": 1345,
     "status": "ok",
     "timestamp": 1595663118659,
     "user": {
      "displayName": "Ankan Sharma",
      "photoUrl": "https://lh3.googleusercontent.com/a-/AOh14Gis4ULgaZnkIYVki7auGjHYEMLMfTJPzWFzaKwzyQ=s64",
      "userId": "07411072094908676866"
     },
     "user_tz": -330
    },
    "id": "9wJzY13O2BjO",
    "outputId": "1f2b3ce9-109a-4147-9413-23ac82950a01"
   },
   "outputs": [
    {
     "data": {
      "text/html": [
       "<div>\n",
       "<style scoped>\n",
       "    .dataframe tbody tr th:only-of-type {\n",
       "        vertical-align: middle;\n",
       "    }\n",
       "\n",
       "    .dataframe tbody tr th {\n",
       "        vertical-align: top;\n",
       "    }\n",
       "\n",
       "    .dataframe thead th {\n",
       "        text-align: right;\n",
       "    }\n",
       "</style>\n",
       "<table border=\"1\" class=\"dataframe\">\n",
       "  <thead>\n",
       "    <tr style=\"text-align: right;\">\n",
       "      <th></th>\n",
       "      <th>AT</th>\n",
       "      <th>V</th>\n",
       "      <th>AP</th>\n",
       "      <th>RH</th>\n",
       "      <th>PE</th>\n",
       "    </tr>\n",
       "  </thead>\n",
       "  <tbody>\n",
       "    <tr>\n",
       "      <td>0</td>\n",
       "      <td>14.96</td>\n",
       "      <td>41.76</td>\n",
       "      <td>1024.07</td>\n",
       "      <td>73.17</td>\n",
       "      <td>463.26</td>\n",
       "    </tr>\n",
       "    <tr>\n",
       "      <td>1</td>\n",
       "      <td>25.18</td>\n",
       "      <td>62.96</td>\n",
       "      <td>1020.04</td>\n",
       "      <td>59.08</td>\n",
       "      <td>444.37</td>\n",
       "    </tr>\n",
       "    <tr>\n",
       "      <td>2</td>\n",
       "      <td>5.11</td>\n",
       "      <td>39.40</td>\n",
       "      <td>1012.16</td>\n",
       "      <td>92.14</td>\n",
       "      <td>488.56</td>\n",
       "    </tr>\n",
       "    <tr>\n",
       "      <td>3</td>\n",
       "      <td>20.86</td>\n",
       "      <td>57.32</td>\n",
       "      <td>1010.24</td>\n",
       "      <td>76.64</td>\n",
       "      <td>446.48</td>\n",
       "    </tr>\n",
       "    <tr>\n",
       "      <td>4</td>\n",
       "      <td>10.82</td>\n",
       "      <td>37.50</td>\n",
       "      <td>1009.23</td>\n",
       "      <td>96.62</td>\n",
       "      <td>473.90</td>\n",
       "    </tr>\n",
       "  </tbody>\n",
       "</table>\n",
       "</div>"
      ],
      "text/plain": [
       "      AT      V       AP     RH      PE\n",
       "0  14.96  41.76  1024.07  73.17  463.26\n",
       "1  25.18  62.96  1020.04  59.08  444.37\n",
       "2   5.11  39.40  1012.16  92.14  488.56\n",
       "3  20.86  57.32  1010.24  76.64  446.48\n",
       "4  10.82  37.50  1009.23  96.62  473.90"
      ]
     },
     "execution_count": 92,
     "metadata": {},
     "output_type": "execute_result"
    }
   ],
   "source": [
    "# Seeing content of first 5 rows\n",
    "ds_fish.head()"
   ]
  },
  {
   "cell_type": "code",
   "execution_count": 93,
   "metadata": {
    "colab": {
     "base_uri": "https://localhost:8080/",
     "height": 151
    },
    "colab_type": "code",
    "executionInfo": {
     "elapsed": 1383,
     "status": "ok",
     "timestamp": 1595663121332,
     "user": {
      "displayName": "Ankan Sharma",
      "photoUrl": "https://lh3.googleusercontent.com/a-/AOh14Gis4ULgaZnkIYVki7auGjHYEMLMfTJPzWFzaKwzyQ=s64",
      "userId": "07411072094908676866"
     },
     "user_tz": -330
    },
    "id": "iLwI4ua42ZxL",
    "outputId": "0edd45b6-962e-489d-f2d6-6cd1010805af"
   },
   "outputs": [
    {
     "data": {
      "text/plain": [
       "AT    0\n",
       "V     0\n",
       "AP    0\n",
       "RH    0\n",
       "PE    0\n",
       "dtype: int64"
      ]
     },
     "execution_count": 93,
     "metadata": {},
     "output_type": "execute_result"
    }
   ],
   "source": [
    "# Checking for null\n",
    "ds_fish.isnull().sum()"
   ]
  },
  {
   "cell_type": "code",
   "execution_count": 95,
   "metadata": {
    "colab": {
     "base_uri": "https://localhost:8080/",
     "height": 215
    },
    "colab_type": "code",
    "executionInfo": {
     "elapsed": 1300,
     "status": "ok",
     "timestamp": 1595663130172,
     "user": {
      "displayName": "Ankan Sharma",
      "photoUrl": "https://lh3.googleusercontent.com/a-/AOh14Gis4ULgaZnkIYVki7auGjHYEMLMfTJPzWFzaKwzyQ=s64",
      "userId": "07411072094908676866"
     },
     "user_tz": -330
    },
    "id": "uWs5MlqM3Ohb",
    "outputId": "9e5b6b41-7ff0-42ae-cd4b-1031e424ef08"
   },
   "outputs": [
    {
     "data": {
      "text/html": [
       "<div>\n",
       "<style scoped>\n",
       "    .dataframe tbody tr th:only-of-type {\n",
       "        vertical-align: middle;\n",
       "    }\n",
       "\n",
       "    .dataframe tbody tr th {\n",
       "        vertical-align: top;\n",
       "    }\n",
       "\n",
       "    .dataframe thead th {\n",
       "        text-align: right;\n",
       "    }\n",
       "</style>\n",
       "<table border=\"1\" class=\"dataframe\">\n",
       "  <thead>\n",
       "    <tr style=\"text-align: right;\">\n",
       "      <th></th>\n",
       "      <th>AT</th>\n",
       "      <th>V</th>\n",
       "      <th>AP</th>\n",
       "      <th>RH</th>\n",
       "      <th>PE</th>\n",
       "    </tr>\n",
       "  </thead>\n",
       "  <tbody>\n",
       "    <tr>\n",
       "      <td>9563</td>\n",
       "      <td>16.65</td>\n",
       "      <td>49.69</td>\n",
       "      <td>1014.01</td>\n",
       "      <td>91.00</td>\n",
       "      <td>460.03</td>\n",
       "    </tr>\n",
       "    <tr>\n",
       "      <td>9564</td>\n",
       "      <td>13.19</td>\n",
       "      <td>39.18</td>\n",
       "      <td>1023.67</td>\n",
       "      <td>66.78</td>\n",
       "      <td>469.62</td>\n",
       "    </tr>\n",
       "    <tr>\n",
       "      <td>9565</td>\n",
       "      <td>31.32</td>\n",
       "      <td>74.33</td>\n",
       "      <td>1012.92</td>\n",
       "      <td>36.48</td>\n",
       "      <td>429.57</td>\n",
       "    </tr>\n",
       "    <tr>\n",
       "      <td>9566</td>\n",
       "      <td>24.48</td>\n",
       "      <td>69.45</td>\n",
       "      <td>1013.86</td>\n",
       "      <td>62.39</td>\n",
       "      <td>435.74</td>\n",
       "    </tr>\n",
       "    <tr>\n",
       "      <td>9567</td>\n",
       "      <td>21.60</td>\n",
       "      <td>62.52</td>\n",
       "      <td>1017.23</td>\n",
       "      <td>67.87</td>\n",
       "      <td>453.28</td>\n",
       "    </tr>\n",
       "  </tbody>\n",
       "</table>\n",
       "</div>"
      ],
      "text/plain": [
       "         AT      V       AP     RH      PE\n",
       "9563  16.65  49.69  1014.01  91.00  460.03\n",
       "9564  13.19  39.18  1023.67  66.78  469.62\n",
       "9565  31.32  74.33  1012.92  36.48  429.57\n",
       "9566  24.48  69.45  1013.86  62.39  435.74\n",
       "9567  21.60  62.52  1017.23  67.87  453.28"
      ]
     },
     "execution_count": 95,
     "metadata": {},
     "output_type": "execute_result"
    }
   ],
   "source": [
    "ds_fish.tail()"
   ]
  },
  {
   "cell_type": "code",
   "execution_count": 96,
   "metadata": {
    "colab": {},
    "colab_type": "code",
    "executionInfo": {
     "elapsed": 1604,
     "status": "ok",
     "timestamp": 1595663137847,
     "user": {
      "displayName": "Ankan Sharma",
      "photoUrl": "https://lh3.googleusercontent.com/a-/AOh14Gis4ULgaZnkIYVki7auGjHYEMLMfTJPzWFzaKwzyQ=s64",
      "userId": "07411072094908676866"
     },
     "user_tz": -330
    },
    "id": "B9IsMWyy3W78"
   },
   "outputs": [],
   "source": [
    "# Shuffle the rows\n",
    "ds_fish=ds_fish.sample(frac=1)"
   ]
  },
  {
   "cell_type": "code",
   "execution_count": 97,
   "metadata": {
    "colab": {},
    "colab_type": "code",
    "executionInfo": {
     "elapsed": 2082,
     "status": "ok",
     "timestamp": 1595663140642,
     "user": {
      "displayName": "Ankan Sharma",
      "photoUrl": "https://lh3.googleusercontent.com/a-/AOh14Gis4ULgaZnkIYVki7auGjHYEMLMfTJPzWFzaKwzyQ=s64",
      "userId": "07411072094908676866"
     },
     "user_tz": -330
    },
    "id": "_VbOSkMb31cm"
   },
   "outputs": [],
   "source": [
    "# List column name for further reference\n",
    "list_of_columns=list(ds_fish)"
   ]
  },
  {
   "cell_type": "code",
   "execution_count": 98,
   "metadata": {
    "colab": {
     "base_uri": "https://localhost:8080/",
     "height": 34
    },
    "colab_type": "code",
    "executionInfo": {
     "elapsed": 1962,
     "status": "ok",
     "timestamp": 1595663143684,
     "user": {
      "displayName": "Ankan Sharma",
      "photoUrl": "https://lh3.googleusercontent.com/a-/AOh14Gis4ULgaZnkIYVki7auGjHYEMLMfTJPzWFzaKwzyQ=s64",
      "userId": "07411072094908676866"
     },
     "user_tz": -330
    },
    "id": "PZ_sz2UG4i05",
    "outputId": "88c96d49-a0b9-491e-d47c-d0e9e732e233"
   },
   "outputs": [
    {
     "data": {
      "text/plain": [
       "(9568, 5)"
      ]
     },
     "execution_count": 98,
     "metadata": {},
     "output_type": "execute_result"
    }
   ],
   "source": [
    "ds_fish.shape"
   ]
  },
  {
   "cell_type": "code",
   "execution_count": 102,
   "metadata": {
    "colab": {},
    "colab_type": "code",
    "executionInfo": {
     "elapsed": 2337,
     "status": "ok",
     "timestamp": 1595663181172,
     "user": {
      "displayName": "Ankan Sharma",
      "photoUrl": "https://lh3.googleusercontent.com/a-/AOh14Gis4ULgaZnkIYVki7auGjHYEMLMfTJPzWFzaKwzyQ=s64",
      "userId": "07411072094908676866"
     },
     "user_tz": -330
    },
    "id": "APu0Amf4358v"
   },
   "outputs": [],
   "source": [
    "# Splitting into train and validation set and target variable and independent variable\n",
    "ds_fish_train_X=ds_fish.iloc[:9000,:-1].values\n",
    "ds_fish_train_y=ds_fish.iloc[:9000,4].values\n",
    "ds_fish_val_X=ds_fish.iloc[9000:,:-1].values\n",
    "ds_fish_val_y=ds_fish.iloc[9000:,4].values"
   ]
  },
  {
   "cell_type": "code",
   "execution_count": 103,
   "metadata": {},
   "outputs": [],
   "source": [
    "# Scaling\n",
    "from sklearn.preprocessing import StandardScaler\n",
    "sc = StandardScaler()\n",
    "ds_fish_train_X = sc.fit_transform(ds_fish_train_X)\n",
    "ds_fish_val_X=sc.fit_transform(ds_fish_val_X)"
   ]
  },
  {
   "cell_type": "code",
   "execution_count": 105,
   "metadata": {},
   "outputs": [
    {
     "data": {
      "text/plain": [
       "(568,)"
      ]
     },
     "execution_count": 105,
     "metadata": {},
     "output_type": "execute_result"
    }
   ],
   "source": [
    "ds_fish_val_y.shape"
   ]
  },
  {
   "cell_type": "code",
   "execution_count": 106,
   "metadata": {
    "colab": {},
    "colab_type": "code",
    "executionInfo": {
     "elapsed": 1625,
     "status": "ok",
     "timestamp": 1595663185664,
     "user": {
      "displayName": "Ankan Sharma",
      "photoUrl": "https://lh3.googleusercontent.com/a-/AOh14Gis4ULgaZnkIYVki7auGjHYEMLMfTJPzWFzaKwzyQ=s64",
      "userId": "07411072094908676866"
     },
     "user_tz": -330
    },
    "id": "gMLDhSif6CEV"
   },
   "outputs": [],
   "source": [
    "# To rank matrix to proper matrix\n",
    "ds_fish_train_y=ds_fish_train_y.reshape(9000,1)\n",
    "ds_fish_val_y=ds_fish_val_y.reshape(568,1)"
   ]
  },
  {
   "cell_type": "code",
   "execution_count": 107,
   "metadata": {
    "colab": {
     "base_uri": "https://localhost:8080/",
     "height": 34
    },
    "colab_type": "code",
    "executionInfo": {
     "elapsed": 1536,
     "status": "ok",
     "timestamp": 1595663188246,
     "user": {
      "displayName": "Ankan Sharma",
      "photoUrl": "https://lh3.googleusercontent.com/a-/AOh14Gis4ULgaZnkIYVki7auGjHYEMLMfTJPzWFzaKwzyQ=s64",
      "userId": "07411072094908676866"
     },
     "user_tz": -330
    },
    "id": "aU_eUxg_7Z3I",
    "outputId": "1080d9d9-2480-4b95-f653-bc4349f62d4b"
   },
   "outputs": [
    {
     "data": {
      "text/plain": [
       "(9000, 4)"
      ]
     },
     "execution_count": 107,
     "metadata": {},
     "output_type": "execute_result"
    }
   ],
   "source": [
    "ds_fish_train_X.shape"
   ]
  },
  {
   "cell_type": "markdown",
   "metadata": {
    "colab_type": "text",
    "id": "kpZS_dEv-0Ou"
   },
   "source": [
    "#### **Have not performed any scaling**\n",
    "#### **Just to implement the model from scratch**\n",
    "#### **Add this code to perform scaling**\n",
    "\"\"\"\n",
    "from sklearn.preprocessing import StandardScaler\n",
    "sc = StandardScaler()\n",
    "X = sc.fit_transform(X)\n",
    "\"\"\"\n",
    "#### X is the independent variable matrix"
   ]
  },
  {
   "cell_type": "markdown",
   "metadata": {
    "colab_type": "text",
    "id": "Wt22VpC86e_Q"
   },
   "source": [
    "# Multiple linear regression"
   ]
  },
  {
   "cell_type": "code",
   "execution_count": 292,
   "metadata": {
    "colab": {},
    "colab_type": "code",
    "executionInfo": {
     "elapsed": 1432,
     "status": "ok",
     "timestamp": 1595666751928,
     "user": {
      "displayName": "Ankan Sharma",
      "photoUrl": "https://lh3.googleusercontent.com/a-/AOh14Gis4ULgaZnkIYVki7auGjHYEMLMfTJPzWFzaKwzyQ=s64",
      "userId": "07411072094908676866"
     },
     "user_tz": -330
    },
    "id": "ZzlexM9y6KWf"
   },
   "outputs": [],
   "source": [
    "def predicted_val(Xi,W,b):\n",
    "    # to get result 150x1 of y_pred i.e 150 rows and 1 columns\n",
    "    # (150,11)x(11,1)=(150,1)\n",
    "    ypred=np.dot(Xi,W) + b\n",
    "    return ypred\n",
    "\n",
    "\n",
    "def Mul_Lin_Rg(X,y):\n",
    "    W=np.random.randn(4,1)\n",
    "    W=W.reshape(4,1)\n",
    "    b=np.random.randn(1,1)\n",
    "    alpha=0.02\n",
    "    epochs=1000\n",
    "    for i in range(epochs):\n",
    "        db=sum(predicted_val(X,W,b)-y)/(2*len(y))\n",
    "        dW=(X.T@(predicted_val(X,W,b)-y))/(2*len(y))\n",
    "        b=b-alpha*db\n",
    "        W=W-alpha*dW\n",
    "    return b,W"
   ]
  },
  {
   "cell_type": "code",
   "execution_count": 293,
   "metadata": {
    "colab": {
     "base_uri": "https://localhost:8080/",
     "height": 162
    },
    "colab_type": "code",
    "executionInfo": {
     "elapsed": 1235,
     "status": "error",
     "timestamp": 1595666064230,
     "user": {
      "displayName": "Ankan Sharma",
      "photoUrl": "https://lh3.googleusercontent.com/a-/AOh14Gis4ULgaZnkIYVki7auGjHYEMLMfTJPzWFzaKwzyQ=s64",
      "userId": "07411072094908676866"
     },
     "user_tz": -330
    },
    "id": "JYBUDsrtG8gy",
    "outputId": "58b5d317-6124-43b6-e344-cb09720d9ca0"
   },
   "outputs": [
    {
     "ename": "NameError",
     "evalue": "name 'ypred' is not defined",
     "output_type": "error",
     "traceback": [
      "\u001b[1;31m---------------------------------------------------------------------------\u001b[0m",
      "\u001b[1;31mNameError\u001b[0m                                 Traceback (most recent call last)",
      "\u001b[1;32m<ipython-input-293-13fee21a1005>\u001b[0m in \u001b[0;36m<module>\u001b[1;34m\u001b[0m\n\u001b[1;32m----> 1\u001b[1;33m \u001b[0mypred\u001b[0m\u001b[1;33m.\u001b[0m\u001b[0mshape\u001b[0m\u001b[1;33m\u001b[0m\u001b[1;33m\u001b[0m\u001b[0m\n\u001b[0m",
      "\u001b[1;31mNameError\u001b[0m: name 'ypred' is not defined"
     ]
    }
   ],
   "source": [
    "ypred.shape"
   ]
  },
  {
   "cell_type": "markdown",
   "metadata": {
    "colab_type": "text",
    "id": "h5rXEICcDcYX"
   },
   "source": [
    "## Call Mul_Lin_Rg(ds_fish_train_X,ds_fish_train_y)"
   ]
  },
  {
   "cell_type": "code",
   "execution_count": 294,
   "metadata": {
    "colab": {
     "base_uri": "https://localhost:8080/",
     "height": 1000
    },
    "colab_type": "code",
    "executionInfo": {
     "elapsed": 1559,
     "status": "ok",
     "timestamp": 1595666784357,
     "user": {
      "displayName": "Ankan Sharma",
      "photoUrl": "https://lh3.googleusercontent.com/a-/AOh14Gis4ULgaZnkIYVki7auGjHYEMLMfTJPzWFzaKwzyQ=s64",
      "userId": "07411072094908676866"
     },
     "user_tz": -330
    },
    "id": "nZ5M5TUZBykd",
    "outputId": "41b36083-0812-456a-e106-a17447681004"
   },
   "outputs": [],
   "source": [
    "optimal_b,optimal_W=Mul_Lin_Rg(ds_fish_train_X,ds_fish_train_y)"
   ]
  },
  {
   "cell_type": "code",
   "execution_count": 295,
   "metadata": {
    "colab": {},
    "colab_type": "code",
    "executionInfo": {
     "elapsed": 1699,
     "status": "ok",
     "timestamp": 1595666793776,
     "user": {
      "displayName": "Ankan Sharma",
      "photoUrl": "https://lh3.googleusercontent.com/a-/AOh14Gis4ULgaZnkIYVki7auGjHYEMLMfTJPzWFzaKwzyQ=s64",
      "userId": "07411072094908676866"
     },
     "user_tz": -330
    },
    "id": "hNUqGZbpD_rw"
   },
   "outputs": [],
   "source": [
    "# Predicting on validation\n",
    "ypred_on_val=predicted_val(ds_fish_val_X,optimal_W,optimal_b)"
   ]
  },
  {
   "cell_type": "code",
   "execution_count": 296,
   "metadata": {},
   "outputs": [
    {
     "data": {
      "text/plain": [
       "array([[476.57822738],\n",
       "       [471.63081988],\n",
       "       [435.83657982],\n",
       "       [425.83681777],\n",
       "       [448.5832055 ],\n",
       "       [464.17377506],\n",
       "       [470.91187663],\n",
       "       [465.0747782 ],\n",
       "       [468.70884851],\n",
       "       [475.54433331],\n",
       "       [452.08749892],\n",
       "       [470.58939596],\n",
       "       [467.88714479],\n",
       "       [443.22831726],\n",
       "       [437.62564409],\n",
       "       [472.43732114],\n",
       "       [470.67671666],\n",
       "       [431.31701668],\n",
       "       [439.85792963],\n",
       "       [445.71499295],\n",
       "       [443.74461836],\n",
       "       [461.02372636],\n",
       "       [468.07019405],\n",
       "       [471.08810907],\n",
       "       [466.25401168],\n",
       "       [440.06898272],\n",
       "       [452.02337368],\n",
       "       [427.33792332],\n",
       "       [457.58094913],\n",
       "       [431.03620927],\n",
       "       [449.22561361],\n",
       "       [475.7620878 ],\n",
       "       [436.00966137],\n",
       "       [444.29145343],\n",
       "       [452.18517377],\n",
       "       [424.34370479],\n",
       "       [430.96392863],\n",
       "       [441.05023625],\n",
       "       [452.42354052],\n",
       "       [472.9457007 ],\n",
       "       [471.30955661],\n",
       "       [430.95733612],\n",
       "       [458.44225244],\n",
       "       [432.75573679],\n",
       "       [463.6042396 ],\n",
       "       [450.65078993],\n",
       "       [429.30244158],\n",
       "       [468.8840869 ],\n",
       "       [433.29386775],\n",
       "       [461.91775926],\n",
       "       [475.35047157],\n",
       "       [440.62480335],\n",
       "       [466.64722727],\n",
       "       [447.49185997],\n",
       "       [456.95095459],\n",
       "       [477.16662978],\n",
       "       [472.84638121],\n",
       "       [441.42491329],\n",
       "       [448.22281405],\n",
       "       [471.69756562],\n",
       "       [444.6534842 ],\n",
       "       [445.20989588],\n",
       "       [437.74049839],\n",
       "       [469.64413765],\n",
       "       [431.36077687],\n",
       "       [442.13163621],\n",
       "       [465.97364477],\n",
       "       [434.32205378],\n",
       "       [465.23973378],\n",
       "       [445.55571622],\n",
       "       [433.28251061],\n",
       "       [448.33146133],\n",
       "       [455.3928557 ],\n",
       "       [428.90969305],\n",
       "       [431.28422741],\n",
       "       [429.64259124],\n",
       "       [475.52119933],\n",
       "       [428.60695592],\n",
       "       [441.12430639],\n",
       "       [466.85061589],\n",
       "       [449.49201577],\n",
       "       [429.04104922],\n",
       "       [424.20411838],\n",
       "       [434.61392478],\n",
       "       [467.98102091],\n",
       "       [467.8509701 ],\n",
       "       [435.06110245],\n",
       "       [458.56538419],\n",
       "       [440.11780619],\n",
       "       [444.38043904],\n",
       "       [444.90292985],\n",
       "       [439.81747727],\n",
       "       [430.42972886],\n",
       "       [439.09327924],\n",
       "       [468.61428169],\n",
       "       [459.90316119],\n",
       "       [463.76415596],\n",
       "       [447.34296116],\n",
       "       [455.09234622],\n",
       "       [452.70526521],\n",
       "       [429.27001896],\n",
       "       [464.2015779 ],\n",
       "       [428.50938991],\n",
       "       [436.91114037],\n",
       "       [425.7040548 ],\n",
       "       [460.02125884],\n",
       "       [469.32286557],\n",
       "       [445.62128196],\n",
       "       [431.11427089],\n",
       "       [442.94560384],\n",
       "       [421.75504111],\n",
       "       [456.59466457],\n",
       "       [433.40417911],\n",
       "       [428.98165109],\n",
       "       [424.82386256],\n",
       "       [442.42798412],\n",
       "       [476.82857371],\n",
       "       [446.12539167],\n",
       "       [444.61951375],\n",
       "       [428.00338895],\n",
       "       [467.05802631],\n",
       "       [442.53457519],\n",
       "       [443.4756775 ],\n",
       "       [429.06969161],\n",
       "       [425.73545356],\n",
       "       [433.95690207],\n",
       "       [466.06272084],\n",
       "       [439.18656824],\n",
       "       [450.22003778],\n",
       "       [466.14845953],\n",
       "       [471.06518452],\n",
       "       [426.66433155],\n",
       "       [434.58263149],\n",
       "       [444.12992654],\n",
       "       [425.30053406],\n",
       "       [465.59362133],\n",
       "       [470.27473342],\n",
       "       [462.27958475],\n",
       "       [473.93019606],\n",
       "       [449.34535262],\n",
       "       [467.50323491],\n",
       "       [476.18364007],\n",
       "       [468.5574253 ],\n",
       "       [472.29441288],\n",
       "       [445.55660984],\n",
       "       [464.07018704],\n",
       "       [472.10960392],\n",
       "       [461.91379011],\n",
       "       [472.68633805],\n",
       "       [444.05381208],\n",
       "       [434.38712578],\n",
       "       [474.09606389],\n",
       "       [445.97187654],\n",
       "       [465.24846388],\n",
       "       [477.13512602],\n",
       "       [449.14904479],\n",
       "       [425.17772599],\n",
       "       [444.71104475],\n",
       "       [447.23240362],\n",
       "       [462.98034792],\n",
       "       [448.91429935],\n",
       "       [440.74660813],\n",
       "       [466.010557  ],\n",
       "       [452.25950602],\n",
       "       [431.95306237],\n",
       "       [466.38000621],\n",
       "       [461.4128489 ],\n",
       "       [464.32541789],\n",
       "       [446.53113468],\n",
       "       [424.93404289],\n",
       "       [463.22129337],\n",
       "       [466.72853218],\n",
       "       [428.60543481],\n",
       "       [461.53494307],\n",
       "       [435.52438504],\n",
       "       [475.30201199],\n",
       "       [462.10263726],\n",
       "       [442.36345501],\n",
       "       [433.96711619],\n",
       "       [467.64105436],\n",
       "       [469.57870467],\n",
       "       [436.38673666],\n",
       "       [453.92565598],\n",
       "       [442.16408062],\n",
       "       [471.46803199],\n",
       "       [441.56356179],\n",
       "       [430.56729026],\n",
       "       [463.69992316],\n",
       "       [428.98595235],\n",
       "       [433.29377616],\n",
       "       [470.48013505],\n",
       "       [469.15334706],\n",
       "       [471.13392726],\n",
       "       [458.06236484],\n",
       "       [438.91632879],\n",
       "       [443.3858111 ],\n",
       "       [439.10527063],\n",
       "       [456.32536823],\n",
       "       [429.88640785],\n",
       "       [445.2760631 ],\n",
       "       [428.46447508],\n",
       "       [449.61487408],\n",
       "       [468.07227814],\n",
       "       [439.10175599],\n",
       "       [428.69508145],\n",
       "       [475.61140149],\n",
       "       [454.66477322],\n",
       "       [475.34822201],\n",
       "       [474.22539469],\n",
       "       [453.36218903],\n",
       "       [474.43600521],\n",
       "       [462.35917103],\n",
       "       [458.01313362],\n",
       "       [424.07316851],\n",
       "       [432.16968907],\n",
       "       [429.65653307],\n",
       "       [428.75891011],\n",
       "       [459.64528575],\n",
       "       [427.09626876],\n",
       "       [446.32437714],\n",
       "       [428.55239385],\n",
       "       [463.52667944],\n",
       "       [451.67028413],\n",
       "       [473.77189438],\n",
       "       [476.90379409],\n",
       "       [446.87613244],\n",
       "       [446.09175968],\n",
       "       [457.00267339],\n",
       "       [468.97907234],\n",
       "       [440.21123821],\n",
       "       [459.30314228],\n",
       "       [432.21256365],\n",
       "       [464.02845396],\n",
       "       [442.00724736],\n",
       "       [473.36115888],\n",
       "       [427.63897909],\n",
       "       [469.40916402],\n",
       "       [480.12955632],\n",
       "       [471.60722193],\n",
       "       [418.28529364],\n",
       "       [466.94936057],\n",
       "       [463.07429588],\n",
       "       [468.2601765 ],\n",
       "       [446.69098007],\n",
       "       [432.53126582],\n",
       "       [465.95174475],\n",
       "       [465.43010945],\n",
       "       [471.69150928],\n",
       "       [432.42083888],\n",
       "       [476.22841715],\n",
       "       [432.28446529],\n",
       "       [440.78266528],\n",
       "       [469.50359066],\n",
       "       [468.30072091],\n",
       "       [433.57471718],\n",
       "       [441.20672787],\n",
       "       [436.15711928],\n",
       "       [461.91411243],\n",
       "       [463.59933404],\n",
       "       [464.78864605],\n",
       "       [428.9122665 ],\n",
       "       [426.82600091],\n",
       "       [471.75849506],\n",
       "       [426.72180828],\n",
       "       [447.53165234],\n",
       "       [475.96667622],\n",
       "       [437.79981142],\n",
       "       [458.04788688],\n",
       "       [432.78154346],\n",
       "       [432.33826873],\n",
       "       [440.50541747],\n",
       "       [472.88559663],\n",
       "       [468.18948583],\n",
       "       [475.32766637],\n",
       "       [432.08350976],\n",
       "       [462.85008538],\n",
       "       [471.79551081],\n",
       "       [468.32548764],\n",
       "       [441.89653538],\n",
       "       [434.76781184],\n",
       "       [465.89278696],\n",
       "       [433.45151526],\n",
       "       [473.80094942],\n",
       "       [434.58792863],\n",
       "       [455.35733869],\n",
       "       [447.91563743],\n",
       "       [462.97363064],\n",
       "       [473.71036854],\n",
       "       [427.46221351],\n",
       "       [474.18969921],\n",
       "       [465.95263852],\n",
       "       [448.87139106],\n",
       "       [465.39157372],\n",
       "       [473.73486337],\n",
       "       [426.8517204 ],\n",
       "       [456.10963952],\n",
       "       [423.27366569],\n",
       "       [460.24995061],\n",
       "       [471.28927569],\n",
       "       [448.57623738],\n",
       "       [450.89466737],\n",
       "       [441.11260837],\n",
       "       [439.75219476],\n",
       "       [443.30617517],\n",
       "       [471.80895288],\n",
       "       [441.61518443],\n",
       "       [459.0522224 ],\n",
       "       [462.22132435],\n",
       "       [453.38067621],\n",
       "       [449.34283765],\n",
       "       [435.18645846],\n",
       "       [437.17040394],\n",
       "       [468.84914113],\n",
       "       [444.08252958],\n",
       "       [469.63100544],\n",
       "       [457.15087338],\n",
       "       [445.3334875 ],\n",
       "       [447.10715863],\n",
       "       [472.2410103 ],\n",
       "       [434.51383564],\n",
       "       [426.35636872],\n",
       "       [422.92757675],\n",
       "       [444.02689499],\n",
       "       [468.66867773],\n",
       "       [465.34076434],\n",
       "       [438.26881924],\n",
       "       [461.05821853],\n",
       "       [470.71775921],\n",
       "       [441.39020942],\n",
       "       [466.2212243 ],\n",
       "       [451.34597214],\n",
       "       [425.08936442],\n",
       "       [448.61483485],\n",
       "       [437.10314577],\n",
       "       [466.19907685],\n",
       "       [472.69088558],\n",
       "       [463.54683341],\n",
       "       [436.2795249 ],\n",
       "       [474.84889022],\n",
       "       [471.98072684],\n",
       "       [438.37772008],\n",
       "       [450.84746697],\n",
       "       [472.75529627],\n",
       "       [461.52669575],\n",
       "       [469.72057847],\n",
       "       [435.02982558],\n",
       "       [437.48932086],\n",
       "       [441.07979484],\n",
       "       [468.88005652],\n",
       "       [445.74561976],\n",
       "       [436.53309733],\n",
       "       [440.47089738],\n",
       "       [439.99408834],\n",
       "       [438.54579776],\n",
       "       [463.31046447],\n",
       "       [470.01638315],\n",
       "       [435.18761659],\n",
       "       [462.40757096],\n",
       "       [467.25779238],\n",
       "       [422.05081222],\n",
       "       [453.24362919],\n",
       "       [466.0844076 ],\n",
       "       [462.09268166],\n",
       "       [439.53845469],\n",
       "       [448.56201758],\n",
       "       [435.84687879],\n",
       "       [433.78447444],\n",
       "       [458.9183105 ],\n",
       "       [437.65087396],\n",
       "       [470.51302749],\n",
       "       [435.93968905],\n",
       "       [428.84004291],\n",
       "       [438.17744019],\n",
       "       [442.28475455],\n",
       "       [439.3281439 ],\n",
       "       [438.70791304],\n",
       "       [426.03043902],\n",
       "       [475.19797181],\n",
       "       [469.3678847 ],\n",
       "       [424.3473627 ],\n",
       "       [476.44798842],\n",
       "       [426.77571386],\n",
       "       [434.36599912],\n",
       "       [450.61437652],\n",
       "       [456.89933176],\n",
       "       [460.70568956],\n",
       "       [468.61712382],\n",
       "       [458.80158935],\n",
       "       [453.76469039],\n",
       "       [438.46321415],\n",
       "       [456.07391253],\n",
       "       [432.23020178],\n",
       "       [445.55281604],\n",
       "       [456.48934206],\n",
       "       [432.65905563],\n",
       "       [460.92645516],\n",
       "       [462.28733649],\n",
       "       [452.87103489],\n",
       "       [427.65337158],\n",
       "       [474.45570924],\n",
       "       [437.50205094],\n",
       "       [476.19665861],\n",
       "       [438.23527727],\n",
       "       [455.88558605],\n",
       "       [425.91464207],\n",
       "       [449.11335887],\n",
       "       [445.97232303],\n",
       "       [464.20250563],\n",
       "       [465.979249  ],\n",
       "       [457.52310698],\n",
       "       [466.69397335],\n",
       "       [445.61087398],\n",
       "       [470.10390158],\n",
       "       [432.99840021],\n",
       "       [453.65548808],\n",
       "       [426.91421959],\n",
       "       [456.14538044],\n",
       "       [460.35304965],\n",
       "       [472.61561676],\n",
       "       [469.48647033],\n",
       "       [462.6112558 ],\n",
       "       [472.28697028],\n",
       "       [444.94521845],\n",
       "       [477.9949106 ],\n",
       "       [436.39759431],\n",
       "       [443.89758355],\n",
       "       [447.58879448],\n",
       "       [464.49283956],\n",
       "       [469.00199519],\n",
       "       [457.39262194],\n",
       "       [437.43102761],\n",
       "       [459.89066225],\n",
       "       [444.2768796 ],\n",
       "       [452.55959087],\n",
       "       [459.23827669],\n",
       "       [458.59194396],\n",
       "       [424.5546972 ],\n",
       "       [471.91675865],\n",
       "       [461.94449674],\n",
       "       [463.75428027],\n",
       "       [444.40830153],\n",
       "       [439.76640619],\n",
       "       [437.3472118 ],\n",
       "       [452.20663923],\n",
       "       [461.10967051],\n",
       "       [471.11219863],\n",
       "       [472.66810007],\n",
       "       [425.05581155],\n",
       "       [427.16127112],\n",
       "       [452.07838592],\n",
       "       [477.02714184],\n",
       "       [461.20478943],\n",
       "       [431.92984137],\n",
       "       [457.6545846 ],\n",
       "       [471.66039279],\n",
       "       [467.06336585],\n",
       "       [431.90153065],\n",
       "       [430.4797009 ],\n",
       "       [450.18252939],\n",
       "       [474.42853609],\n",
       "       [429.03929142],\n",
       "       [465.28365156],\n",
       "       [428.74950828],\n",
       "       [445.02143979],\n",
       "       [455.1399314 ],\n",
       "       [474.35186233],\n",
       "       [435.37610292],\n",
       "       [444.89400362],\n",
       "       [441.7773477 ],\n",
       "       [468.5694663 ],\n",
       "       [474.93283662],\n",
       "       [446.82541565],\n",
       "       [465.15183366],\n",
       "       [463.32557248],\n",
       "       [442.29247726],\n",
       "       [435.92710419],\n",
       "       [470.03685489],\n",
       "       [440.83676798],\n",
       "       [437.23129761],\n",
       "       [430.8486525 ],\n",
       "       [442.7594803 ],\n",
       "       [479.56984464],\n",
       "       [448.99657721],\n",
       "       [464.8184411 ],\n",
       "       [461.31780016],\n",
       "       [426.58663753],\n",
       "       [469.39141648],\n",
       "       [439.39516063],\n",
       "       [440.56639479],\n",
       "       [440.96805017],\n",
       "       [461.00097307],\n",
       "       [439.75911918],\n",
       "       [461.7156319 ],\n",
       "       [476.42454267],\n",
       "       [467.620759  ],\n",
       "       [436.88701341],\n",
       "       [446.11214415],\n",
       "       [423.18777234],\n",
       "       [463.47827816],\n",
       "       [477.68230981],\n",
       "       [447.16415207],\n",
       "       [467.4095741 ],\n",
       "       [447.14275318],\n",
       "       [464.42418411],\n",
       "       [452.22972415],\n",
       "       [431.71310126],\n",
       "       [430.751402  ],\n",
       "       [468.82701299],\n",
       "       [442.1198924 ],\n",
       "       [436.56722953],\n",
       "       [427.67361222],\n",
       "       [445.74215971],\n",
       "       [470.64514625],\n",
       "       [423.20291538],\n",
       "       [433.29591983],\n",
       "       [434.46945245],\n",
       "       [469.92457214],\n",
       "       [433.88456479],\n",
       "       [457.57279856],\n",
       "       [439.36446825],\n",
       "       [442.23880368],\n",
       "       [478.59139828],\n",
       "       [443.65448357],\n",
       "       [438.71925155],\n",
       "       [476.67806963],\n",
       "       [441.3652961 ],\n",
       "       [470.76875159],\n",
       "       [460.33007456],\n",
       "       [435.89460996],\n",
       "       [467.78724246],\n",
       "       [451.17651138],\n",
       "       [473.57000505],\n",
       "       [445.70040861],\n",
       "       [428.6200851 ],\n",
       "       [455.48951553],\n",
       "       [439.44158764],\n",
       "       [465.99539548],\n",
       "       [467.14598542],\n",
       "       [469.38476065],\n",
       "       [428.79920343],\n",
       "       [464.79561003],\n",
       "       [469.34036522],\n",
       "       [439.78276199],\n",
       "       [429.24443124],\n",
       "       [442.61707694],\n",
       "       [459.54512134],\n",
       "       [467.79974911],\n",
       "       [471.81650199],\n",
       "       [421.97332425],\n",
       "       [474.821088  ],\n",
       "       [432.72659459],\n",
       "       [449.56076736],\n",
       "       [432.96931135],\n",
       "       [428.86338771],\n",
       "       [446.50652414],\n",
       "       [461.34750117],\n",
       "       [433.46018113],\n",
       "       [470.3058312 ],\n",
       "       [465.60935212],\n",
       "       [447.41710805],\n",
       "       [465.26410897],\n",
       "       [440.26373929],\n",
       "       [464.50573184],\n",
       "       [441.90799059],\n",
       "       [431.81854979],\n",
       "       [470.3121095 ],\n",
       "       [433.74028071],\n",
       "       [437.53994183]])"
      ]
     },
     "execution_count": 296,
     "metadata": {},
     "output_type": "execute_result"
    }
   ],
   "source": [
    "ypred_on_val"
   ]
  },
  {
   "cell_type": "code",
   "execution_count": 297,
   "metadata": {},
   "outputs": [
    {
     "data": {
      "text/plain": [
       "array([[478.88],\n",
       "       [486.55],\n",
       "       [437.5 ],\n",
       "       [433.32],\n",
       "       [451.86],\n",
       "       [463.3 ],\n",
       "       [469.03],\n",
       "       [466.59],\n",
       "       [470.33],\n",
       "       [483.38],\n",
       "       [452.38],\n",
       "       [469.04],\n",
       "       [477.93],\n",
       "       [448.8 ],\n",
       "       [448.26],\n",
       "       [485.76],\n",
       "       [479.23],\n",
       "       [435.38],\n",
       "       [439.71],\n",
       "       [449.76],\n",
       "       [443.71],\n",
       "       [464.12],\n",
       "       [466.15],\n",
       "       [475.43],\n",
       "       [475.72],\n",
       "       [452.47],\n",
       "       [451.49],\n",
       "       [436.85],\n",
       "       [463.14],\n",
       "       [434.48],\n",
       "       [447.02],\n",
       "       [485.12],\n",
       "       [446.94],\n",
       "       [452.21],\n",
       "       [450.6 ],\n",
       "       [433.74],\n",
       "       [435.65],\n",
       "       [447.93],\n",
       "       [449.67],\n",
       "       [481.05],\n",
       "       [475.48],\n",
       "       [429.99],\n",
       "       [454.4 ],\n",
       "       [438.41],\n",
       "       [465.58],\n",
       "       [450.89],\n",
       "       [442.28],\n",
       "       [470.27],\n",
       "       [440.29],\n",
       "       [465.89],\n",
       "       [476.02],\n",
       "       [445.72],\n",
       "       [460.38],\n",
       "       [450.5 ],\n",
       "       [459.85],\n",
       "       [479.43],\n",
       "       [482.16],\n",
       "       [452.15],\n",
       "       [451.33],\n",
       "       [479.62],\n",
       "       [445.05],\n",
       "       [449.13],\n",
       "       [441.91],\n",
       "       [470.8 ],\n",
       "       [428.74],\n",
       "       [445.36],\n",
       "       [465.75],\n",
       "       [438.62],\n",
       "       [459.6 ],\n",
       "       [451.37],\n",
       "       [442.13],\n",
       "       [444.64],\n",
       "       [464.58],\n",
       "       [438.1 ],\n",
       "       [426.14],\n",
       "       [431.75],\n",
       "       [474.25],\n",
       "       [428.58],\n",
       "       [445.22],\n",
       "       [474.45],\n",
       "       [453.5 ],\n",
       "       [428.71],\n",
       "       [435.04],\n",
       "       [440.81],\n",
       "       [464.44],\n",
       "       [467.15],\n",
       "       [437.64],\n",
       "       [457.67],\n",
       "       [443.93],\n",
       "       [446.53],\n",
       "       [445.44],\n",
       "       [444.74],\n",
       "       [435.41],\n",
       "       [446.05],\n",
       "       [480.61],\n",
       "       [469.05],\n",
       "       [470.8 ],\n",
       "       [453.96],\n",
       "       [450.09],\n",
       "       [456.55],\n",
       "       [438.04],\n",
       "       [469.18],\n",
       "       [427.1 ],\n",
       "       [436.16],\n",
       "       [438.46],\n",
       "       [463.99],\n",
       "       [474.16],\n",
       "       [446.02],\n",
       "       [431.31],\n",
       "       [446.04],\n",
       "       [431.69],\n",
       "       [463.21],\n",
       "       [434.11],\n",
       "       [431.47],\n",
       "       [433.14],\n",
       "       [447.67],\n",
       "       [482.38],\n",
       "       [444.82],\n",
       "       [438.59],\n",
       "       [441.78],\n",
       "       [477.3 ],\n",
       "       [445.8 ],\n",
       "       [444.04],\n",
       "       [435.93],\n",
       "       [432.02],\n",
       "       [442.07],\n",
       "       [473.22],\n",
       "       [440.52],\n",
       "       [452.56],\n",
       "       [463.97],\n",
       "       [478.29],\n",
       "       [435.74],\n",
       "       [433.95],\n",
       "       [446.7 ],\n",
       "       [435.69],\n",
       "       [461.06],\n",
       "       [466.05],\n",
       "       [468.37],\n",
       "       [488.85],\n",
       "       [445.07],\n",
       "       [475.46],\n",
       "       [479.06],\n",
       "       [478.5 ],\n",
       "       [483.61],\n",
       "       [445.93],\n",
       "       [467.39],\n",
       "       [485.13],\n",
       "       [461.74],\n",
       "       [483.53],\n",
       "       [444.43],\n",
       "       [436.25],\n",
       "       [483.92],\n",
       "       [441.77],\n",
       "       [467.01],\n",
       "       [494.3 ],\n",
       "       [447.42],\n",
       "       [432.44],\n",
       "       [454.32],\n",
       "       [447.2 ],\n",
       "       [471.  ],\n",
       "       [444.01],\n",
       "       [444.71],\n",
       "       [469.57],\n",
       "       [448.52],\n",
       "       [435.17],\n",
       "       [465.96],\n",
       "       [467.68],\n",
       "       [468.88],\n",
       "       [449.81],\n",
       "       [431.28],\n",
       "       [466.87],\n",
       "       [478.02],\n",
       "       [438.92],\n",
       "       [470.97],\n",
       "       [436.51],\n",
       "       [487.71],\n",
       "       [469.52],\n",
       "       [449.77],\n",
       "       [433.08],\n",
       "       [482.99],\n",
       "       [471.26],\n",
       "       [436.46],\n",
       "       [457.53],\n",
       "       [451.78],\n",
       "       [485.6 ],\n",
       "       [453.47],\n",
       "       [432.3 ],\n",
       "       [468.31],\n",
       "       [438.47],\n",
       "       [435.59],\n",
       "       [468.75],\n",
       "       [481.87],\n",
       "       [483.57],\n",
       "       [459.01],\n",
       "       [442.99],\n",
       "       [442.79],\n",
       "       [443.04],\n",
       "       [459.81],\n",
       "       [430.14],\n",
       "       [443.8 ],\n",
       "       [431.39],\n",
       "       [450.19],\n",
       "       [468.46],\n",
       "       [445.59],\n",
       "       [430.91],\n",
       "       [474.71],\n",
       "       [458.66],\n",
       "       [489.96],\n",
       "       [488.12],\n",
       "       [457.6 ],\n",
       "       [480.21],\n",
       "       [460.59],\n",
       "       [452.68],\n",
       "       [433.29],\n",
       "       [435.2 ],\n",
       "       [435.2 ],\n",
       "       [439.71],\n",
       "       [458.68],\n",
       "       [432.33],\n",
       "       [450.87],\n",
       "       [435.34],\n",
       "       [467.98],\n",
       "       [456.97],\n",
       "       [487.19],\n",
       "       [480.06],\n",
       "       [453.54],\n",
       "       [440.68],\n",
       "       [451.13],\n",
       "       [480.21],\n",
       "       [442.46],\n",
       "       [467.81],\n",
       "       [435.79],\n",
       "       [465.14],\n",
       "       [446.08],\n",
       "       [484.54],\n",
       "       [425.82],\n",
       "       [469.1 ],\n",
       "       [486.06],\n",
       "       [470.9 ],\n",
       "       [433.94],\n",
       "       [459.76],\n",
       "       [463.33],\n",
       "       [474.29],\n",
       "       [449.47],\n",
       "       [438.91],\n",
       "       [479.44],\n",
       "       [465.57],\n",
       "       [489.66],\n",
       "       [432.3 ],\n",
       "       [484.65],\n",
       "       [437.94],\n",
       "       [439.91],\n",
       "       [474.7 ],\n",
       "       [477.2 ],\n",
       "       [441.84],\n",
       "       [447.84],\n",
       "       [437.53],\n",
       "       [460.21],\n",
       "       [459.01],\n",
       "       [475.03],\n",
       "       [429.62],\n",
       "       [432.03],\n",
       "       [471.86],\n",
       "       [429.31],\n",
       "       [451.93],\n",
       "       [482.9 ],\n",
       "       [446.68],\n",
       "       [462.96],\n",
       "       [435.85],\n",
       "       [433.76],\n",
       "       [445.25],\n",
       "       [479.78],\n",
       "       [474.91],\n",
       "       [488.65],\n",
       "       [434.68],\n",
       "       [464.14],\n",
       "       [467.24],\n",
       "       [466.17],\n",
       "       [440.61],\n",
       "       [438.62],\n",
       "       [471.32],\n",
       "       [433.72],\n",
       "       [477.9 ],\n",
       "       [434.24],\n",
       "       [460.86],\n",
       "       [455.06],\n",
       "       [459.42],\n",
       "       [489.05],\n",
       "       [433.71],\n",
       "       [487.84],\n",
       "       [475.62],\n",
       "       [451.09],\n",
       "       [461.81],\n",
       "       [477.51],\n",
       "       [443.72],\n",
       "       [460.84],\n",
       "       [430.62],\n",
       "       [466.73],\n",
       "       [481.77],\n",
       "       [447.92],\n",
       "       [454.09],\n",
       "       [444.65],\n",
       "       [439.97],\n",
       "       [449.98],\n",
       "       [477.34],\n",
       "       [441.51],\n",
       "       [456.33],\n",
       "       [468.55],\n",
       "       [459.89],\n",
       "       [445.03],\n",
       "       [439.51],\n",
       "       [440.04],\n",
       "       [471.83],\n",
       "       [442.  ],\n",
       "       [478.27],\n",
       "       [464.66],\n",
       "       [442.63],\n",
       "       [440.95],\n",
       "       [474.07],\n",
       "       [440.52],\n",
       "       [432.99],\n",
       "       [431.74],\n",
       "       [450.07],\n",
       "       [475.64],\n",
       "       [470.94],\n",
       "       [441.05],\n",
       "       [467.1 ],\n",
       "       [479.96],\n",
       "       [442.93],\n",
       "       [462.16],\n",
       "       [448.28],\n",
       "       [433.91],\n",
       "       [451.08],\n",
       "       [438.87],\n",
       "       [461.16],\n",
       "       [484.05],\n",
       "       [474.45],\n",
       "       [446.72],\n",
       "       [474.31],\n",
       "       [473.87],\n",
       "       [443.93],\n",
       "       [445.32],\n",
       "       [474.88],\n",
       "       [469.13],\n",
       "       [480.73],\n",
       "       [444.09],\n",
       "       [440.97],\n",
       "       [441.21],\n",
       "       [467.54],\n",
       "       [443.45],\n",
       "       [447.34],\n",
       "       [441.6 ],\n",
       "       [442.18],\n",
       "       [440.12],\n",
       "       [465.82],\n",
       "       [475.13],\n",
       "       [440.22],\n",
       "       [463.96],\n",
       "       [473.99],\n",
       "       [432.75],\n",
       "       [453.77],\n",
       "       [475.07],\n",
       "       [462.6 ],\n",
       "       [445.91],\n",
       "       [448.1 ],\n",
       "       [442.27],\n",
       "       [437.45],\n",
       "       [458.42],\n",
       "       [444.7 ],\n",
       "       [477.99],\n",
       "       [436.7 ],\n",
       "       [439.14],\n",
       "       [438.44],\n",
       "       [441.73],\n",
       "       [440.66],\n",
       "       [440.63],\n",
       "       [426.76],\n",
       "       [486.78],\n",
       "       [473.43],\n",
       "       [425.18],\n",
       "       [482.25],\n",
       "       [439.11],\n",
       "       [441.57],\n",
       "       [448.83],\n",
       "       [462.69],\n",
       "       [457.05],\n",
       "       [475.89],\n",
       "       [459.59],\n",
       "       [453.09],\n",
       "       [447.85],\n",
       "       [460.76],\n",
       "       [446.3 ],\n",
       "       [446.61],\n",
       "       [463.89],\n",
       "       [433.95],\n",
       "       [463.57],\n",
       "       [470.93],\n",
       "       [451.14],\n",
       "       [434.91],\n",
       "       [487.25],\n",
       "       [439.91],\n",
       "       [489.64],\n",
       "       [438.79],\n",
       "       [448.74],\n",
       "       [436.23],\n",
       "       [450.86],\n",
       "       [452.73],\n",
       "       [464.58],\n",
       "       [471.62],\n",
       "       [455.81],\n",
       "       [466.34],\n",
       "       [454.4 ],\n",
       "       [475.85],\n",
       "       [444.13],\n",
       "       [448.51],\n",
       "       [429.02],\n",
       "       [463.39],\n",
       "       [461.58],\n",
       "       [484.9 ],\n",
       "       [474.1 ],\n",
       "       [465.84],\n",
       "       [484.07],\n",
       "       [443.04],\n",
       "       [484.18],\n",
       "       [440.07],\n",
       "       [453.94],\n",
       "       [444.87],\n",
       "       [465.  ],\n",
       "       [481.83],\n",
       "       [463.35],\n",
       "       [437.53],\n",
       "       [465.62],\n",
       "       [451.01],\n",
       "       [449.6 ],\n",
       "       [456.07],\n",
       "       [462.55],\n",
       "       [431.18],\n",
       "       [475.21],\n",
       "       [469.23],\n",
       "       [469.9 ],\n",
       "       [452.03],\n",
       "       [452.82],\n",
       "       [452.  ],\n",
       "       [453.36],\n",
       "       [464.88],\n",
       "       [481.89],\n",
       "       [475.64],\n",
       "       [425.11],\n",
       "       [438.44],\n",
       "       [451.97],\n",
       "       [484.64],\n",
       "       [466.73],\n",
       "       [437.42],\n",
       "       [451.5 ],\n",
       "       [471.71],\n",
       "       [468.94],\n",
       "       [437.94],\n",
       "       [431.29],\n",
       "       [453.99],\n",
       "       [485.94],\n",
       "       [430.8 ],\n",
       "       [475.08],\n",
       "       [435.46],\n",
       "       [448.15],\n",
       "       [448.35],\n",
       "       [489.03],\n",
       "       [444.95],\n",
       "       [439.78],\n",
       "       [437.44],\n",
       "       [472.7 ],\n",
       "       [448.97],\n",
       "       [448.04],\n",
       "       [467.8 ],\n",
       "       [466.72],\n",
       "       [448.17],\n",
       "       [446.34],\n",
       "       [472.9 ],\n",
       "       [437.98],\n",
       "       [442.93],\n",
       "       [435.94],\n",
       "       [440.5 ],\n",
       "       [487.87],\n",
       "       [450.66],\n",
       "       [463.53],\n",
       "       [460.93],\n",
       "       [431.84],\n",
       "       [480.18],\n",
       "       [448.75],\n",
       "       [444.79],\n",
       "       [449.63],\n",
       "       [460.66],\n",
       "       [442.5 ],\n",
       "       [466.6 ],\n",
       "       [481.35],\n",
       "       [466.05],\n",
       "       [441.04],\n",
       "       [447.29],\n",
       "       [433.28],\n",
       "       [469.54],\n",
       "       [483.95],\n",
       "       [456.06],\n",
       "       [478.27],\n",
       "       [442.24],\n",
       "       [461.  ],\n",
       "       [453.26],\n",
       "       [432.88],\n",
       "       [432.72],\n",
       "       [468.14],\n",
       "       [442.72],\n",
       "       [446.67],\n",
       "       [428.89],\n",
       "       [444.23],\n",
       "       [477.94],\n",
       "       [433.19],\n",
       "       [433.97],\n",
       "       [440.15],\n",
       "       [477.52],\n",
       "       [441.74],\n",
       "       [463.48],\n",
       "       [449.03],\n",
       "       [440.13],\n",
       "       [482.46],\n",
       "       [451.97],\n",
       "       [440.  ],\n",
       "       [475.55],\n",
       "       [440.26],\n",
       "       [465.43],\n",
       "       [467.54],\n",
       "       [438.1 ],\n",
       "       [472.54],\n",
       "       [453.8 ],\n",
       "       [479.23],\n",
       "       [451.87],\n",
       "       [439.33],\n",
       "       [458.37],\n",
       "       [438.28],\n",
       "       [474.79],\n",
       "       [471.61],\n",
       "       [483.92],\n",
       "       [426.79],\n",
       "       [475.98],\n",
       "       [484.21],\n",
       "       [444.31],\n",
       "       [442.69],\n",
       "       [449.73],\n",
       "       [466.86],\n",
       "       [471.49],\n",
       "       [472.41],\n",
       "       [428.48],\n",
       "       [477.2 ],\n",
       "       [431.82],\n",
       "       [455.23],\n",
       "       [439.32],\n",
       "       [429.25],\n",
       "       [450.96],\n",
       "       [463.58],\n",
       "       [438.09],\n",
       "       [476.91],\n",
       "       [471.7 ],\n",
       "       [452.18],\n",
       "       [474.72],\n",
       "       [452.41],\n",
       "       [469.17],\n",
       "       [454.5 ],\n",
       "       [435.48],\n",
       "       [483.8 ],\n",
       "       [436.69],\n",
       "       [447.66]])"
      ]
     },
     "execution_count": 297,
     "metadata": {},
     "output_type": "execute_result"
    }
   ],
   "source": [
    "ds_fish_val_y"
   ]
  },
  {
   "cell_type": "code",
   "execution_count": 298,
   "metadata": {
    "colab": {
     "base_uri": "https://localhost:8080/",
     "height": 34
    },
    "colab_type": "code",
    "executionInfo": {
     "elapsed": 1542,
     "status": "ok",
     "timestamp": 1595666858896,
     "user": {
      "displayName": "Ankan Sharma",
      "photoUrl": "https://lh3.googleusercontent.com/a-/AOh14Gis4ULgaZnkIYVki7auGjHYEMLMfTJPzWFzaKwzyQ=s64",
      "userId": "07411072094908676866"
     },
     "user_tz": -330
    },
    "id": "e0mfZTM4Ga5R",
    "outputId": "b46a87ea-1970-444b-b492-22802eb747e2"
   },
   "outputs": [
    {
     "data": {
      "text/plain": [
       "(1, 1)"
      ]
     },
     "execution_count": 298,
     "metadata": {},
     "output_type": "execute_result"
    }
   ],
   "source": [
    "optimal_b.shape"
   ]
  },
  {
   "cell_type": "code",
   "execution_count": 299,
   "metadata": {
    "colab": {
     "base_uri": "https://localhost:8080/",
     "height": 50
    },
    "colab_type": "code",
    "executionInfo": {
     "elapsed": 1246,
     "status": "ok",
     "timestamp": 1595666882981,
     "user": {
      "displayName": "Ankan Sharma",
      "photoUrl": "https://lh3.googleusercontent.com/a-/AOh14Gis4ULgaZnkIYVki7auGjHYEMLMfTJPzWFzaKwzyQ=s64",
      "userId": "07411072094908676866"
     },
     "user_tz": -330
    },
    "id": "oKCredCqE2eU",
    "outputId": "252bdd75-34fc-4ab2-91ea-288223b0a701"
   },
   "outputs": [],
   "source": [
    "# Checking accuracy by r_squared\n",
    "def r2(y_val,y):\n",
    "    sst = np.sum((y-y.mean())**2)\n",
    "    ssr = np.sum((y_val-y)**2)\n",
    "    r2 = 1-(ssr/sst)\n",
    "    return(r2)\n",
    "\n",
    "acc=r2(ypred_on_val,ds_fish_val_y)"
   ]
  },
  {
   "cell_type": "code",
   "execution_count": 300,
   "metadata": {},
   "outputs": [
    {
     "data": {
      "text/plain": [
       "0.8484206405385956"
      ]
     },
     "execution_count": 300,
     "metadata": {},
     "output_type": "execute_result"
    }
   ],
   "source": [
    "acc"
   ]
  },
  {
   "cell_type": "code",
   "execution_count": 72,
   "metadata": {
    "colab": {},
    "colab_type": "code",
    "executionInfo": {
     "elapsed": 1330,
     "status": "ok",
     "timestamp": 1595666366659,
     "user": {
      "displayName": "Ankan Sharma",
      "photoUrl": "https://lh3.googleusercontent.com/a-/AOh14Gis4ULgaZnkIYVki7auGjHYEMLMfTJPzWFzaKwzyQ=s64",
      "userId": "07411072094908676866"
     },
     "user_tz": -330
    },
    "id": "iSi-KZiVH3_v"
   },
   "outputs": [],
   "source": [
    "v=np.random.randn(150,11)\n",
    "th=np.random.randn(11,1)\n",
    "t=np.dot(v,th)"
   ]
  },
  {
   "cell_type": "code",
   "execution_count": 73,
   "metadata": {
    "colab": {
     "base_uri": "https://localhost:8080/",
     "height": 34
    },
    "colab_type": "code",
    "executionInfo": {
     "elapsed": 1234,
     "status": "ok",
     "timestamp": 1595666371214,
     "user": {
      "displayName": "Ankan Sharma",
      "photoUrl": "https://lh3.googleusercontent.com/a-/AOh14Gis4ULgaZnkIYVki7auGjHYEMLMfTJPzWFzaKwzyQ=s64",
      "userId": "07411072094908676866"
     },
     "user_tz": -330
    },
    "id": "KefgcYaGIHs6",
    "outputId": "8a43e568-f179-44e2-f5a1-771389ab1c05"
   },
   "outputs": [
    {
     "data": {
      "text/plain": [
       "(150, 1)"
      ]
     },
     "execution_count": 73,
     "metadata": {
      "tags": []
     },
     "output_type": "execute_result"
    }
   ],
   "source": [
    "t.shape"
   ]
  },
  {
   "cell_type": "code",
   "execution_count": 23,
   "metadata": {
    "colab": {},
    "colab_type": "code",
    "id": "Oj6_-fUpII1f"
   },
   "outputs": [
    {
     "name": "stdout",
     "output_type": "stream",
     "text": [
      "nan\n"
     ]
    },
    {
     "name": "stderr",
     "output_type": "stream",
     "text": [
      "C:\\Users\\Ankan\\Anaconda3\\lib\\site-packages\\numpy\\lib\\function_base.py:2522: RuntimeWarning: Degrees of freedom <= 0 for slice\n",
      "  c = cov(x, y, rowvar)\n",
      "C:\\Users\\Ankan\\Anaconda3\\lib\\site-packages\\numpy\\lib\\function_base.py:2451: RuntimeWarning: divide by zero encountered in true_divide\n",
      "  c *= np.true_divide(1, fact)\n",
      "C:\\Users\\Ankan\\Anaconda3\\lib\\site-packages\\numpy\\lib\\function_base.py:2451: RuntimeWarning: invalid value encountered in multiply\n",
      "  c *= np.true_divide(1, fact)\n"
     ]
    }
   ],
   "source": [
    "correlation_matrix = np.corrcoef(ypred_on_val, ds_fish_val_y)\n",
    "correlation_xy = correlation_matrix[0,1]\n",
    "r_squared = correlation_xy**2\n",
    "print(r_squared)"
   ]
  },
  {
   "cell_type": "code",
   "execution_count": 39,
   "metadata": {},
   "outputs": [],
   "source": [
    "from sklearn.metrics import r2_score"
   ]
  },
  {
   "cell_type": "code",
   "execution_count": 40,
   "metadata": {},
   "outputs": [
    {
     "data": {
      "text/plain": [
       "-1.0185388209856889e+20"
      ]
     },
     "execution_count": 40,
     "metadata": {},
     "output_type": "execute_result"
    }
   ],
   "source": [
    "r2_score(ds_fish_val_y,ypred_on_val)"
   ]
  },
  {
   "cell_type": "code",
   "execution_count": 14,
   "metadata": {},
   "outputs": [
    {
     "data": {
      "text/plain": [
       "98"
      ]
     },
     "execution_count": 14,
     "metadata": {},
     "output_type": "execute_result"
    }
   ],
   "source": [
    "abs(-98)"
   ]
  },
  {
   "cell_type": "code",
   "execution_count": 84,
   "metadata": {},
   "outputs": [
    {
     "data": {
      "text/plain": [
       "LinearRegression(copy_X=True, fit_intercept=True, n_jobs=None, normalize=False)"
      ]
     },
     "execution_count": 84,
     "metadata": {},
     "output_type": "execute_result"
    }
   ],
   "source": [
    "from sklearn.linear_model import LinearRegression\n",
    "regressor = LinearRegression()  \n",
    "regressor.fit(ds_fish_train_X,ds_fish_train_y) #training the algorithm"
   ]
  },
  {
   "cell_type": "code",
   "execution_count": 85,
   "metadata": {},
   "outputs": [],
   "source": [
    "y_pred = regressor.predict(ds_fish_val_X)"
   ]
  },
  {
   "cell_type": "code",
   "execution_count": 86,
   "metadata": {},
   "outputs": [
    {
     "data": {
      "text/plain": [
       "0.6589875411644874"
      ]
     },
     "execution_count": 86,
     "metadata": {},
     "output_type": "execute_result"
    }
   ],
   "source": [
    "r2_score(ds_fish_val_y,y_pred)"
   ]
  },
  {
   "cell_type": "code",
   "execution_count": 87,
   "metadata": {},
   "outputs": [
    {
     "data": {
      "text/plain": [
       "array([[ 601.46410505],\n",
       "       [ 355.83761818],\n",
       "       [-111.8453988 ],\n",
       "       [ 948.46780291],\n",
       "       [  -7.11076291],\n",
       "       [ 428.84569395],\n",
       "       [-162.58224043],\n",
       "       [ 360.86506863],\n",
       "       [1111.59211342]])"
      ]
     },
     "execution_count": 87,
     "metadata": {},
     "output_type": "execute_result"
    }
   ],
   "source": [
    "y_pred"
   ]
  },
  {
   "cell_type": "code",
   "execution_count": 88,
   "metadata": {},
   "outputs": [
    {
     "data": {
      "text/plain": [
       "array([[ 725. ],\n",
       "       [ 145. ],\n",
       "       [  32. ],\n",
       "       [ 120. ],\n",
       "       [1250. ],\n",
       "       [ 188. ],\n",
       "       [ 170. ],\n",
       "       [ 700. ],\n",
       "       [  12.2],\n",
       "       [1600. ],\n",
       "       [  70. ],\n",
       "       [ 800. ],\n",
       "       [ 161. ],\n",
       "       [ 500. ],\n",
       "       [ 300. ],\n",
       "       [  19.7],\n",
       "       [ 456. ],\n",
       "       [ 260. ],\n",
       "       [ 650. ],\n",
       "       [  78. ],\n",
       "       [1100. ],\n",
       "       [ 242. ],\n",
       "       [   8.7],\n",
       "       [1000. ],\n",
       "       [ 850. ],\n",
       "       [ 340. ],\n",
       "       [ 200. ],\n",
       "       [ 600. ],\n",
       "       [  19.9],\n",
       "       [ 685. ],\n",
       "       [ 475. ],\n",
       "       [ 610. ],\n",
       "       [ 180. ],\n",
       "       [ 620. ],\n",
       "       [ 575. ],\n",
       "       [ 160. ],\n",
       "       [ 272. ],\n",
       "       [ 556. ],\n",
       "       [ 140. ],\n",
       "       [ 540. ],\n",
       "       [ 125. ],\n",
       "       [  69. ],\n",
       "       [ 500. ],\n",
       "       [ 900. ],\n",
       "       [ 265. ],\n",
       "       [ 130. ],\n",
       "       [  60. ],\n",
       "       [ 500. ],\n",
       "       [  51.5],\n",
       "       [ 110. ],\n",
       "       [1650. ],\n",
       "       [  85. ],\n",
       "       [ 135. ],\n",
       "       [ 514. ],\n",
       "       [1100. ],\n",
       "       [ 180. ],\n",
       "       [ 650. ],\n",
       "       [1000. ],\n",
       "       [ 345. ],\n",
       "       [   9.7],\n",
       "       [ 390. ],\n",
       "       [ 850. ],\n",
       "       [ 145. ],\n",
       "       [ 273. ],\n",
       "       [ 300. ],\n",
       "       [ 200. ],\n",
       "       [  87. ],\n",
       "       [ 700. ],\n",
       "       [ 270. ],\n",
       "       [ 700. ],\n",
       "       [  40. ],\n",
       "       [ 925. ],\n",
       "       [ 950. ],\n",
       "       [1000. ],\n",
       "       [ 955. ],\n",
       "       [1550. ],\n",
       "       [1000. ],\n",
       "       [ 920. ],\n",
       "       [  85. ],\n",
       "       [ 680. ],\n",
       "       [ 700. ],\n",
       "       [ 145. ],\n",
       "       [ 685. ],\n",
       "       [  10. ],\n",
       "       [1000. ],\n",
       "       [ 197. ],\n",
       "       [  90. ],\n",
       "       [ 169. ],\n",
       "       [ 170. ],\n",
       "       [ 510. ],\n",
       "       [ 770. ],\n",
       "       [ 320. ],\n",
       "       [ 270. ],\n",
       "       [ 390. ],\n",
       "       [ 306. ],\n",
       "       [ 300. ],\n",
       "       [ 250. ],\n",
       "       [1015. ],\n",
       "       [ 720. ],\n",
       "       [   6.7],\n",
       "       [ 290. ],\n",
       "       [ 714. ],\n",
       "       [ 290. ],\n",
       "       [ 140. ],\n",
       "       [ 450. ],\n",
       "       [ 110. ],\n",
       "       [  55. ],\n",
       "       [ 567. ],\n",
       "       [ 300. ],\n",
       "       [ 145. ],\n",
       "       [ 150. ],\n",
       "       [  80. ],\n",
       "       [   9.8],\n",
       "       [ 150. ],\n",
       "       [ 120. ],\n",
       "       [ 700. ],\n",
       "       [   9.9],\n",
       "       [ 300. ],\n",
       "       [ 363. ],\n",
       "       [   7. ],\n",
       "       [ 500. ],\n",
       "       [ 600. ],\n",
       "       [ 120. ],\n",
       "       [ 950. ],\n",
       "       [ 200. ],\n",
       "       [ 100. ],\n",
       "       [ 130. ],\n",
       "       [ 160. ],\n",
       "       [   7.5],\n",
       "       [  40. ],\n",
       "       [ 250. ],\n",
       "       [ 218. ],\n",
       "       [ 500. ],\n",
       "       [ 300. ],\n",
       "       [ 450. ],\n",
       "       [ 690. ],\n",
       "       [  78. ],\n",
       "       [   0. ],\n",
       "       [ 130. ],\n",
       "       [ 150. ],\n",
       "       [   9.8],\n",
       "       [ 110. ],\n",
       "       [   5.9],\n",
       "       [ 340. ],\n",
       "       [ 150. ],\n",
       "       [ 820. ],\n",
       "       [  12.2],\n",
       "       [ 120. ],\n",
       "       [  13.4],\n",
       "       [ 820. ]])"
      ]
     },
     "execution_count": 88,
     "metadata": {},
     "output_type": "execute_result"
    }
   ],
   "source": [
    "ds_fish_train_y"
   ]
  },
  {
   "cell_type": "code",
   "execution_count": 100,
   "metadata": {},
   "outputs": [],
   "source": [
    "l=[7,8,9,6,5]\n"
   ]
  },
  {
   "cell_type": "code",
   "execution_count": 101,
   "metadata": {},
   "outputs": [
    {
     "data": {
      "text/plain": [
       "5"
      ]
     },
     "execution_count": 101,
     "metadata": {},
     "output_type": "execute_result"
    }
   ],
   "source": [
    "l[4]"
   ]
  },
  {
   "cell_type": "code",
   "execution_count": null,
   "metadata": {},
   "outputs": [],
   "source": [
    "4"
   ]
  }
 ],
 "metadata": {
  "accelerator": "GPU",
  "colab": {
   "authorship_tag": "ABX9TyMdJAiZK+OHPKGpqE//deE+",
   "collapsed_sections": [],
   "name": "Multi_variate Linear Regression.ipynb",
   "provenance": [],
   "toc_visible": true
  },
  "kernelspec": {
   "display_name": "Python 3",
   "language": "python",
   "name": "python3"
  },
  "language_info": {
   "codemirror_mode": {
    "name": "ipython",
    "version": 3
   },
   "file_extension": ".py",
   "mimetype": "text/x-python",
   "name": "python",
   "nbconvert_exporter": "python",
   "pygments_lexer": "ipython3",
   "version": "3.7.4"
  }
 },
 "nbformat": 4,
 "nbformat_minor": 1
}
