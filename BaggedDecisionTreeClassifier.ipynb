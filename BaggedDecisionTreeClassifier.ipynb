{
 "cells": [
  {
   "cell_type": "code",
   "execution_count": 1,
   "metadata": {},
   "outputs": [],
   "source": [
    "import numpy as np\n",
    "import pandas as pd\n",
    "import matplotlib.pyplot as plt\n",
    "%matplotlib inline\n",
    "from sklearn.tree import DecisionTreeClassifier"
   ]
  },
  {
   "cell_type": "code",
   "execution_count": null,
   "metadata": {},
   "outputs": [],
   "source": [
    "class BaggedDecisonTreeClassifier:\n",
    "    \n",
    "    def __init__(self,num_of_bagged=5):\n",
    "        # Initialised with number of bagged models\n",
    "        self.num_of_bagged=num_of_bagged\n",
    "        \n",
    "    def fit(self,X,y):\n",
    "        # to store the models\n",
    "        self.models=[]\n",
    "        for i in range(len(self.num_of_bagged)):\n",
    "            indexs=np.random.choice(len(X),size=len(X))# sample with replacement\n",
    "            Xi=X[indexs]# Chossing random samples\n",
    "            Yi=y[indexs]\n",
    "            # Training for each sample bunch by D.T.R\n",
    "            model=DecisionTreeClassifier()\n",
    "            model.fit(Xi,Yi)\n",
    "            # Storing the models\n",
    "            self.models.append(model)\n",
    "            \n",
    "    def predict(self,X):\n",
    "        pred=np.zeros(len(X))\n",
    "        # predicting with each stored models\n",
    "        for model in self.models:\n",
    "            pred=pred+model.predict(X)\n",
    "        return np.round(pred/self.num_of_bagged)\n",
    "    \n",
    "    def accuracy(self,y_true,y_pred):\n",
    "        return np.mean(y_true==y_pred)\n",
    "        "
   ]
  }
 ],
 "metadata": {
  "kernelspec": {
   "display_name": "Python 3",
   "language": "python",
   "name": "python3"
  },
  "language_info": {
   "codemirror_mode": {
    "name": "ipython",
    "version": 3
   },
   "file_extension": ".py",
   "mimetype": "text/x-python",
   "name": "python",
   "nbconvert_exporter": "python",
   "pygments_lexer": "ipython3",
   "version": "3.7.4"
  }
 },
 "nbformat": 4,
 "nbformat_minor": 2
}
