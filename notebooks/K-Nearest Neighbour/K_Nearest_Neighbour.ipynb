{
  "nbformat": 4,
  "nbformat_minor": 0,
  "metadata": {
    "colab": {
      "name": "K-Nearest Neighbour.ipynb",
      "provenance": [],
      "authorship_tag": "ABX9TyNAJ720p0QZ1iRP2MZhh7mI",
      "include_colab_link": true
    },
    "kernelspec": {
      "name": "python3",
      "display_name": "Python 3"
    }
  },
  "cells": [
    {
      "cell_type": "markdown",
      "metadata": {
        "id": "view-in-github",
        "colab_type": "text"
      },
      "source": [
        "<a href=\"https://colab.research.google.com/github/Ankan1998/easyML/blob/master/K_Nearest_Neighbour.ipynb\" target=\"_parent\"><img src=\"https://colab.research.google.com/assets/colab-badge.svg\" alt=\"Open In Colab\"/></a>"
      ]
    },
    {
      "cell_type": "code",
      "metadata": {
        "id": "MLH0wF3yuQyR"
      },
      "source": [
        "import numpy as np\n",
        "from sklearn import datasets"
      ],
      "execution_count": 1,
      "outputs": []
    },
    {
      "cell_type": "code",
      "metadata": {
        "id": "vdacCswSuoCf"
      },
      "source": [
        "class KNN(object):\n",
        "\n",
        "    def __init__(self,k=2):\n",
        "        # Need to specified the number of K default = 2\n",
        "        self.k=k\n",
        "    \n",
        "    def fit(self,X,y):\n",
        "        # Training on include giving info of training dataset\n",
        "        self.X_train=X\n",
        "        self.y_train=y\n",
        "        \n",
        "    def predict(self,X):\n",
        "        y=np.zeros(len(X))\n",
        "        for idx_of_test, x in enumerate(X): # iterating over test set\n",
        "            distance_list_of_test_train=[] # empty list to include test_train distance\n",
        "            for idx_of_train , x_t in enumerate(self.X_train): # iterating over training set data\n",
        "                difference=x-x_t # next two lines of code calculate distance\n",
        "                sqrd_dist=difference.dot(difference)\n",
        "                distance_list_of_test_train.append(sqrd_dist) # appending sqrd distance to distance list\n",
        "            k_idx=np.argsort(distance_list_of_test_train)[:self.k] #argsort sorts from asc to desc returns index in position\n",
        "            k_nearest_lbl=[self.y_train[train_y_idx] for train_y_idx in k_idx] #labelling according its index of y_train\n",
        "            y[idx_of_test]=max(set(k_nearest_lbl), key = k_nearest_lbl.count) # getting max occurences of classes in the list\n",
        "        return y\n",
        "    \n",
        "    def accuracy(self,y_true,y_pred):\n",
        "        return np.mean(y_true==y_pred)"
      ],
      "execution_count": 3,
      "outputs": []
    },
    {
      "cell_type": "code",
      "metadata": {
        "id": "IOkGIgvRukQv"
      },
      "source": [
        "iris = datasets.load_iris()\n",
        "X = iris.data[:, :2]  # we only take the first two features.\n",
        "y = iris.target"
      ],
      "execution_count": 4,
      "outputs": []
    },
    {
      "cell_type": "code",
      "metadata": {
        "id": "WbtvT6Kpy0m9"
      },
      "source": [
        "h=KNN(2)"
      ],
      "execution_count": 5,
      "outputs": []
    },
    {
      "cell_type": "code",
      "metadata": {
        "id": "McBThLxjzMBO"
      },
      "source": [
        "h.fit(X,y)"
      ],
      "execution_count": 6,
      "outputs": []
    },
    {
      "cell_type": "code",
      "metadata": {
        "id": "_sqHDYegzUqY"
      },
      "source": [
        "prd=h.predict(X)"
      ],
      "execution_count": 8,
      "outputs": []
    },
    {
      "cell_type": "code",
      "metadata": {
        "colab": {
          "base_uri": "https://localhost:8080/"
        },
        "id": "6A9V8Aq7zW0y",
        "outputId": "acc10c5f-3d16-4177-bfdf-bbbd6a656d8b"
      },
      "source": [
        "h.accuracy(y,prd)"
      ],
      "execution_count": 10,
      "outputs": [
        {
          "output_type": "execute_result",
          "data": {
            "text/plain": [
              "0.8533333333333334"
            ]
          },
          "metadata": {
            "tags": []
          },
          "execution_count": 10
        }
      ]
    },
    {
      "cell_type": "code",
      "metadata": {
        "id": "TxFhWGabziIb"
      },
      "source": [
        ""
      ],
      "execution_count": null,
      "outputs": []
    }
  ]
}